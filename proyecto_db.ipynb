{
  "nbformat": 4,
  "nbformat_minor": 0,
  "metadata": {
    "colab": {
      "name": "proyecto_db.ipynb",
      "provenance": [],
      "collapsed_sections": []
    },
    "kernelspec": {
      "name": "python3",
      "display_name": "Python 3"
    }
  },
  "cells": [
    {
      "cell_type": "code",
      "metadata": {
        "id": "c2yjJfqdMKoe",
        "colab_type": "code",
        "colab": {
          "base_uri": "https://localhost:8080/",
          "height": 139
        },
        "outputId": "2af33d13-6075-40bd-af5c-cd668d3b4cec"
      },
      "source": [
        "!pip install numpy\n",
        "!pip install pandas"
      ],
      "execution_count": null,
      "outputs": [
        {
          "output_type": "stream",
          "text": [
            "Requirement already satisfied: numpy in /usr/local/lib/python3.6/dist-packages (1.18.5)\n",
            "Requirement already satisfied: pandas in /usr/local/lib/python3.6/dist-packages (1.0.4)\n",
            "Requirement already satisfied: numpy>=1.13.3 in /usr/local/lib/python3.6/dist-packages (from pandas) (1.18.5)\n",
            "Requirement already satisfied: pytz>=2017.2 in /usr/local/lib/python3.6/dist-packages (from pandas) (2018.9)\n",
            "Requirement already satisfied: python-dateutil>=2.6.1 in /usr/local/lib/python3.6/dist-packages (from pandas) (2.8.1)\n",
            "Requirement already satisfied: six>=1.5 in /usr/local/lib/python3.6/dist-packages (from python-dateutil>=2.6.1->pandas) (1.12.0)\n"
          ],
          "name": "stdout"
        }
      ]
    },
    {
      "cell_type": "markdown",
      "metadata": {
        "id": "ubYvLolhOhj5",
        "colab_type": "text"
      },
      "source": [
        "# Nueva sección"
      ]
    },
    {
      "cell_type": "code",
      "metadata": {
        "id": "7wnznqbfMfpj",
        "colab_type": "code",
        "colab": {}
      },
      "source": [
        "from google.colab import drive\n",
        "import sys\n",
        "import pandas as pd\n",
        "import numpy as np"
      ],
      "execution_count": 1,
      "outputs": []
    },
    {
      "cell_type": "code",
      "metadata": {
        "id": "u3SqNF44OCXX",
        "colab_type": "code",
        "colab": {
          "base_uri": "https://localhost:8080/",
          "height": 34
        },
        "outputId": "26df7113-70c6-4f8c-9085-1339429d6344"
      },
      "source": [
        "drive.mount('/content/drive/')\n"
      ],
      "execution_count": 2,
      "outputs": [
        {
          "output_type": "stream",
          "text": [
            "Drive already mounted at /content/drive/; to attempt to forcibly remount, call drive.mount(\"/content/drive/\", force_remount=True).\n"
          ],
          "name": "stdout"
        }
      ]
    },
    {
      "cell_type": "code",
      "metadata": {
        "id": "RQ3y8vbZMn6H",
        "colab_type": "code",
        "colab": {}
      },
      "source": [
        "class proyecto:\n",
        "    def __init__(self):\n",
        "        self.contador=0\n",
        "        self.resultado=0\n",
        "        self.promedios=[]\n",
        "        self.temp_array=[]\n",
        "        self.temp_valores=[]\n",
        "        self.temp1=0\n",
        "        self.temp2=0\n",
        "        self.temp3=0\n",
        "        self.data=[]\n",
        "        self.users=[]\n",
        "        self.sources=[]\n",
        "        self.items_book=dict()\n",
        "        self.temp_items=dict()\n",
        "        self.temp_book=dict()\n",
        "        self.book=dict()\n",
        "        self.matriz=[]\n",
        "        self.ratings_g=[]\n",
        "        self.data_coseno=dict()\n",
        "        self.user_promedio=dict()\n",
        "        self.t_cos_ajustado=dict()\n",
        "        self.t_norm_user=dict()\n",
        "        self.dato_predic=0\n",
        "        self.maximo=0\n",
        "        self.minimo=0\n",
        "        self.data_slope=dict()\n",
        "        self.c=dict()\n",
        "    def promedio_movie_ratings(self):\n",
        "        self.contador=0\n",
        "        self.temp1=0\n",
        "        self.resultado=0\n",
        "        self.temp_array=[]\n",
        "        self.temp_valores=[]\n",
        "        for i in range(len(self.sources)):\n",
        "          self.temp_array.append(0)\n",
        "          self.temp_valores.append(0)\n",
        "        for name,valores in self.book.items():\n",
        "            for valor in valores.keys():\n",
        "              self.temp_array[int(np.where(self.sources==valor)[0])]+=valores.get(valor)\n",
        "              self.temp_valores[int(np.where(self.sources==valor)[0])]+=1\n",
        "        print(self.temp_array)\n",
        "        for i in range(len(self.temp_array)):\n",
        "          self.temp_array[i]=float(self.temp_array[i]/(self.temp_valores[i]))\n",
        "        self.temp_valores=[]\n",
        "        self.promedios=self.temp_array\n",
        "        self.temp_array=[]\n",
        "    def promedio_users(self):\n",
        "        self.contador=0\n",
        "        self.temp1=0\n",
        "        self.resultado=0\n",
        "        self.temp_array=[]\n",
        "        self.temp_valores=[]\n",
        "        for i in range(len(self.users)):\n",
        "          self.temp_array.append(0)\n",
        "          self.temp_valores.append(0)\n",
        "          for j in range(len(self.sources)):\n",
        "            if self.book.get(self.users[i]).get(self.sources[j])!=None:\n",
        "              self.temp_array[i]+=self.book.get(self.users[i]).get(self.sources[j])\n",
        "              self.temp_valores[i]+=1\n",
        "        for i in range(len(self.temp_array)):\n",
        "          self.temp_array[i]=float(self.temp_array[i]/(self.temp_valores[i]))\n",
        "        self.temp_valores=[]\n",
        "        self.promedios=self.temp_array\n",
        "        self.temp_array=[]\n",
        "    def cos_ajustado_mr(self):\n",
        "        self.temp1=0;self.temp2=0;self.temp3=0\n",
        "        self.temp_vector=[]\n",
        "        for i in range(len(self.sources)-1):\n",
        "          for m in range(0,i):\n",
        "            self.temp_vector.append(0.0)\n",
        "          for j in range(i+1,len(self.sources)):\n",
        "            for k in range(len(self.users)):\n",
        "              if self.book.get(self.users[k]).get(self.sources[i])!= None and self.book.get(self.users[k]).get(self.sources[j])!=None:\n",
        "                self.temp1+=(self.book.get(self.users[k]).get(self.sources[i])-self.promedios[k])*(self.book.get(self.users[k]).get(self.sources[j])-self.promedios[k])\n",
        "                self.temp2+=(self.book.get(self.users[k]).get(self.sources[i])-self.promedios[k])**2\n",
        "                self.temp3+=(self.book.get(self.users[k]).get(self.sources[j])-self.promedios[k])**2\n",
        "          #print(self.temp1);print(self.temp2);print(self.temp3)\n",
        "            self.temp2=self.temp2**0.5\n",
        "            self.temp3=self.temp3**0.5\n",
        "            self.temp_vector.append(self.temp1/(self.temp2*self.temp3))\n",
        "            self.temp1=0;self.temp2=0;self.temp3=0\n",
        "          self.matriz.append(self.temp_vector)\n",
        "          self.temp_vector=[]\n",
        "    def cos_ajustador_user_mr(self):\n",
        "      self.temp1=0;self.temp2=0;self.temp3=0\n",
        "      self.temp_vector=[]\n",
        "      for i in range(len(self.users)):\n",
        "        for m in range(0,i):\n",
        "            self.temp_vector.append(0.0)\n",
        "        for j in range(i+1,len(self.users)):\n",
        "          for k in range(len(self.sources)):\n",
        "            \n",
        "            if self.book.get(self.users[i]).get(self.sources[k])!= None and self.book.get(self.users[j]).get(self.sources[k])!=None:\n",
        "              self.temp1+=(self.book.get(self.users[i]).get(self.sources[k])-self.promedios[i])*(self.book.get(self.users[j]).get(self.sources[k])-self.promedios[j])\n",
        "              self.temp2+=(self.book.get(self.users[i]).get(self.sources[k])-self.promedios[i])**2\n",
        "              self.temp3+=(self.book.get(self.users[j]).get(self.sources[k])-self.promedios[j])**2\n",
        "          #print(self.temp1);print(self.temp2);print(self.temp3)\n",
        "          self.temp2=self.temp2**0.5\n",
        "          self.temp3=self.temp3**0.5\n",
        "          self.temp_vector.append(self.temp1/(self.temp2*self.temp3))\n",
        "          self.temp1=0;self.temp2=0;self.temp3=0\n",
        "        self.matriz.append(self.temp_vector)\n",
        "        self.temp_vector=[]\n",
        "    def normalizacion(self,data):\n",
        "        self.temp_array=[]\n",
        "        self.resultado=0\n",
        "        self.temp1=min(data)\n",
        "        self.temp2=max(data)\n",
        "        for i in range(len(data)):\n",
        "            self.temp_array.append(2*(data[i]-self.temp1)-(self.temp1-self.temp2)/(self.temp1-self.temp2))\n",
        "    def estructura_movieratings(self,archivo):\n",
        "        self.data=[]\n",
        "        self.sources=[]\n",
        "        self.data=[]\n",
        "        abrir_archivo=pd.read_csv(archivo,delimiter=',')\n",
        "        self.sources=abrir_archivo['Unnamed: 0']\n",
        "        self.users=abrir_archivo.columns[1:]\n",
        "        #self.users = [str(value for value in range(elements)]\n",
        "        #print(self.users)\n",
        "        for i in range(len(self.users)):\n",
        "          self.temp_array=abrir_archivo[self.users[i]].fillna(0)\n",
        "          for j in range(len(self.temp_array)):\n",
        "            if self.temp_array[j]!=0.0:\n",
        "              self.temp_book[self.sources[j]]=self.temp_array[j]\n",
        "          self.book[self.users[i]]=self.temp_book\n",
        "          self.temp_book=dict()\n",
        "    def estructura_d_grande(self,archivo):\n",
        "      self.users=[]\n",
        "      self.sources=[]\n",
        "      self.ratings_g=[]\n",
        "      self.users=[]\n",
        "      self.sources=[]\n",
        "      self.ratings_g=[]\n",
        "      #abrir_archivo=pd.read_csv(archivo,delimiter=',')\n",
        "      for abrir_archivo in pd.read_csv(archivo, delimiter=',',chunksize=1000):\n",
        "        #print(abrir_archivo.columns())\n",
        "        self.sources=[]\n",
        "        self.users=[]\n",
        "        self.ratings_g=[]\n",
        "        self.users=np.array(abrir_archivo['User-ID']).astype(str)\n",
        "        self.sources=np.array(abrir_archivo['ISBN'].astype(str))\n",
        "        self.ratings_g=np.array(abrir_archivo['Book-Rating'].astype(int))\n",
        "        #print(self.sources[0])\n",
        "        for i in range(len(self.users)):\n",
        "          self.temp_book=dict()\n",
        "          self.temp_book[self.sources[i]]=self.ratings_g[i]\n",
        "          #print(self.temp_book)\n",
        "        #print(self.temp_book)\n",
        "          if len(self.book)!=0:\n",
        "            if self.ratings_g[i]!=0:\n",
        "              if self.book.get(self.users[i])==None:\n",
        "                self.book[self.users[i]]=self.temp_book\n",
        "              else:\n",
        "                self.book[self.users[i]].update(self.temp_book)\n",
        "          else:\n",
        "            if self.ratings_g[i]!=0:\n",
        "              self.book[self.users[i]]=self.temp_book\n",
        "    def generar_data_inversa(self,archivo):\n",
        "      self.users=[]\n",
        "      self.sources=[]\n",
        "      self.ratings_g=[]\n",
        "      self.users=[]\n",
        "      self.sources=[]\n",
        "      self.ratings_g=[]\n",
        "      #abrir_archivo=pd.read_csv(archivo,delimiter=',')\n",
        "      for abrir_archivo in pd.read_csv(archivo, delimiter=',',chunksize=1000):\n",
        "        #t(abrir_archivo.columns())\n",
        "        self.sources=[]\n",
        "        self.users=[]\n",
        "        self.ratings_g=[]\n",
        "        self.users=np.array(abrir_archivo['User-ID']).astype(str)\n",
        "        self.sources=np.array(abrir_archivo['ISBN'].astype(str))\n",
        "        self.ratings_g=np.array(abrir_archivo['Book-Rating'].astype(int))\n",
        "        #print(self.sources[0])\n",
        "        for i in range(len(self.users)):\n",
        "          self.temp_book=dict()\n",
        "          self.temp_book[self.users[i]]=self.ratings_g[i]\n",
        "          #print(self.temp_book)\n",
        "        #print(self.temp_book)\n",
        "          if len(self.items_book)!=0:\n",
        "            if self.ratings_g[i]!=0:\n",
        "              if self.items_book.get(self.sources[i])==None:\n",
        "                self.items_book[self.sources[i]]=self.temp_book\n",
        "              else:\n",
        "                self.items_book[self.sources[i]].update(self.temp_book)\n",
        "          else:\n",
        "            if self.ratings_g[i]!=0:\n",
        "              self.items_book[self.sources[i]]=self.temp_book\n",
        "    def promedio_users_grande(self):\n",
        "        self.contador=0\n",
        "        self.temp1=0\n",
        "        self.resultado=0\n",
        "        self.temp_valores=[]\n",
        "        self.promedios=[]\n",
        "        for i in range(len(self.book)):\n",
        "          self.promedios.append(0)\n",
        "          self.temp_valores.append(0)\n",
        "        for usuario,v_datos in self.book.items():\n",
        "          for key in v_datos.keys():\n",
        "            self.promedios[self.contador]+=float(v_datos[key])\n",
        "            self.temp_valores[self.contador]+=1\n",
        "          self.contador+=1\n",
        "        cont=0\n",
        "        for usuario,v_datos in self.book.items():\n",
        "          self.user_promedio[usuario]=(float(self.promedios[cont]/(self.temp_valores[cont])))\n",
        "          cont+=1\n",
        "        self.temp_valores=[]\n",
        "        self.temp_array=[]\n",
        "    def cos_ajustador_inversa_grande(self,search_libro):\n",
        "      self.temp1=0;self.temp2=0;self.temp3=0\n",
        "      self.temp_vector=[]\n",
        "      self.users=[]\n",
        "      self.temp1=0\n",
        "      self.temp2=0\n",
        "      self.temp3=0\n",
        "      self.t_cos_ajustado=dict()\n",
        "      temp_lib=self.items_book.get(search_libro)\n",
        "      t_1=set(temp_lib.keys())\n",
        "      for kx,values in self.items_book.items():\n",
        "        if kx!=search_libro:\n",
        "          t_2=set(values.keys())\n",
        "          temporal=t_1 & t_2\n",
        "          for kz in temporal:\n",
        "            print(temp_lib.get(kz),self.user_promedio.get(kz),values.get(kz),self.user_promedio.get(kz))\n",
        "            self.temp1+=(temp_lib.get(kz)-self.user_promedio.get(kz))*((values.get(kz)-self.user_promedio.get(kz)))\n",
        "            self.temp2+=(temp_lib.get(kz)-self.user_promedio.get(kz))**2\n",
        "            self.temp3+=(values.get(kz)-self.user_promedio.get(kz))**2\n",
        "          #self.temp2=self.temp2**0.5\n",
        "          #self.temp3=self.temp3**0.5\n",
        "          if self.temp2!=0 and self.temp3!=0:\n",
        "            self.t_cos_ajustado[kx]=self.temp1/((self.temp2**0.5)*(self.temp3**0.5))\n",
        "          self.temp1=0;self.temp2=0;self.temp3=0\n",
        "    def normalizacion(self,user):\n",
        "      self.t_norm_user=dict()\n",
        "      self.t_norm_user=self.book.get(user)\n",
        "      self.minimo=min(self.t_norm_user.values())\n",
        "      self.maximo=max(self.t_norm_user.values())\n",
        "      for key,values in self.t_norm_user.items():\n",
        "        self.t_norm_user[key]=((2*(self.t_norm_user[key]-self.minimo))-(self.maximo-self.minimo))/(self.maximo-self.minimo)\n",
        "    def prediccion(self):\n",
        "      self.dato_predic=0\n",
        "      t_1=set(self.t_norm_user.keys())\n",
        "      t_2=set(self.t_cos_ajustado.keys())\n",
        "      temporal=t_1 &t_2\n",
        "      print(temporal)\n",
        "      resultado=0\n",
        "      division=0\n",
        "      for key in temporal:\n",
        "        resultado+=self.t_norm_user.get(key)*self.t_cos_ajustado.get(key)\n",
        "        division+=abs(self.t_cos_ajustado.get(key))\n",
        "      self.dato_predic=resultado/division\n",
        "      print(resultado,division)\n",
        "    def desnormalizacion(self):\n",
        "      resultado=((self.dato_predic+1)*(self.maximo-self.minimo))/2+self.minimo\n",
        "      print(resultado)\n",
        "    def slope_one(self,search_libro):\n",
        "      self.temp1=0;self.temp2=0;self.temp3=0\n",
        "      self.temp_vector=[]\n",
        "      self.users=[]\n",
        "      self.temp1=0\n",
        "      self.c=dict()\n",
        "      self.data_slope=dict()\n",
        "      temp_lib=self.items_book.get(search_libro)\n",
        "      t_1=set(temp_lib.keys())\n",
        "      for kx,values in self.items_book.items():\n",
        "        if kx!=search_libro:\n",
        "\n",
        "          t_2=set(values.keys())\n",
        "          temporal=t_1 & t_2\n",
        "          self.c[kx]=len(temporal)\n",
        "          for kz in temporal:\n",
        "            self.temp1+=temp_lib.get(kz)-values.get(kz)\n",
        "          self.data_slope[kx]=self.temp1/2\n",
        "          self.temp1=0\n",
        "    def rateuser_slope(self,user):\n",
        "      self.t_norm_user=dict()\n",
        "      self.t_norm_user=self.book.get(user)\n",
        "    def predicion_slope(self):\n",
        "      t_1=set(self.t_norm_user.keys())\n",
        "      self.temp1=0\n",
        "      self.temp2=0\n",
        "      self.temp3=0\n",
        "      for key in self.t_norm_user.keys():\n",
        "        if self.data_slope.get(key)!=None and self.c.get(key)!=None:\n",
        "          #print(self.t_norm_user.get(key),self.data_slope.get(key),self.c.get(key))\n",
        "          self.temp1+=(self.t_norm_user.get(key)+(self.data_slope.get(key)))*self.c.get(key)\n",
        "          self.temp2+=self.c.get(key)\n",
        "      print(self.temp1/self.temp2)\n",
        "\n",
        "\n",
        "        \n",
        "\n",
        "\n"
      ],
      "execution_count": 21,
      "outputs": []
    },
    {
      "cell_type": "code",
      "metadata": {
        "id": "Ag6L77C-xlth",
        "colab_type": "code",
        "colab": {}
      },
      "source": [
        "\n",
        "d_movieratings='/content/drive/My Drive/proyecto_db/BX-Book-Ratingsv2.csv'\n",
        "b=proyecto()\n",
        "b.estructura_d_grande(d_movieratings)\n",
        "b.promedio_users_grande()\n",
        "b.generar_data_inversa(d_movieratings)\n",
        "#b.alistar_coseno()\n",
        "#a.promedio_users_grande()\n",
        "#for key in b.data_coseno.keys():\n",
        "#  print(key,b.data_coseno.get(key))"
      ],
      "execution_count": null,
      "outputs": []
    },
    {
      "cell_type": "code",
      "metadata": {
        "id": "dkLbAiKHRVIT",
        "colab_type": "code",
        "colab": {}
      },
      "source": [
        "b.cos_ajustador_inversa_grande(\"8445071769\")"
      ],
      "execution_count": null,
      "outputs": []
    },
    {
      "cell_type": "code",
      "metadata": {
        "id": "hFej7BYNnAOF",
        "colab_type": "code",
        "colab": {}
      },
      "source": [
        "b.normalizacion(\"194864\")"
      ],
      "execution_count": null,
      "outputs": []
    },
    {
      "cell_type": "code",
      "metadata": {
        "id": "3R5XKQFutmlK",
        "colab_type": "code",
        "colab": {
          "base_uri": "https://localhost:8080/",
          "height": 88
        },
        "outputId": "ff336295-e38b-4e64-a02e-83dcd94de471"
      },
      "source": [
        "b.prediccion()\n",
        "b.desnormalizacion()"
      ],
      "execution_count": null,
      "outputs": [
        {
          "output_type": "stream",
          "text": [
            "{'8420465666', '8445071777', '8433961845', '8401377013', '8427028282', '8489969280', '8466401555', '8445071408', '8432215007', '8423918688', '807253081X', '8430604855', '1740590732', '8422608286', '0864427530', '8466311815', '8478446400', '8484509796', '0864425856', '1864503157', '1858283485'}\n",
            "8.56989305047779 20.849465252388942\n",
            "8.527591468982141\n"
          ],
          "name": "stdout"
        }
      ]
    },
    {
      "cell_type": "code",
      "metadata": {
        "id": "VPN-VDQUFSqS",
        "colab_type": "code",
        "colab": {
          "base_uri": "https://localhost:8080/",
          "height": 34
        },
        "outputId": "fcbedd6e-c9c0-42dc-a2d6-60966adcf09c"
      },
      "source": [
        "print(b.dato_predic)"
      ],
      "execution_count": null,
      "outputs": [
        {
          "output_type": "stream",
          "text": [
            "0.4110365875928567\n"
          ],
          "name": "stdout"
        }
      ]
    },
    {
      "cell_type": "code",
      "metadata": {
        "id": "3YvWIb2pqgfG",
        "colab_type": "code",
        "colab": {}
      },
      "source": [
        "a_movieratings='/content/drive/My Drive/proyecto_db/BX-Book-Ratingsv2.csv'\n",
        "#abrir_archivo=pd.read_csv(archivo,delimiter=',')\n",
        "c=proyecto()\n",
        "c.estructura_d_grande(a_movieratings)\n",
        "c.promedio_users_grande()\n",
        "c.generar_data_inversa(a_movieratings)"
      ],
      "execution_count": 18,
      "outputs": []
    },
    {
      "cell_type": "code",
      "metadata": {
        "id": "ouPShKkQ1yyd",
        "colab_type": "code",
        "colab": {
          "base_uri": "https://localhost:8080/",
          "height": 34
        },
        "outputId": "eb912716-05d8-4bb6-d4c5-548f1a492b2d"
      },
      "source": [
        "c.slope_one(\"8445071769\")\n",
        "c.rateuser_slope(\"194864\")\n",
        "c.predicion_slope()"
      ],
      "execution_count": 19,
      "outputs": [
        {
          "output_type": "stream",
          "text": [
            "7.586206896551724\n"
          ],
          "name": "stdout"
        }
      ]
    },
    {
      "cell_type": "code",
      "metadata": {
        "id": "Gywu-wbZ6sPg",
        "colab_type": "code",
        "colab": {}
      },
      "source": [
        "a_movieratings='/content/drive/My Drive/proyecto_db/ratings_lens.csv'\n",
        "#abrir_archivo=pd.read_csv(archivo,delimiter=',')\n",
        "d=proyecto()\n",
        "d.estructura_d_grande(a_movieratings)\n",
        "d.promedio_users_grande()\n",
        "d.generar_data_inversa(a_movieratings)"
      ],
      "execution_count": 23,
      "outputs": []
    }
  ]
}